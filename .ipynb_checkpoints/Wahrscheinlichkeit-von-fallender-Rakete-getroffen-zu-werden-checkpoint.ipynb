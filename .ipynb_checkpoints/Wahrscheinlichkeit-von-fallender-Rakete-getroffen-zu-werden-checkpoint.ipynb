{
 "cells": [
  {
   "cell_type": "markdown",
   "metadata": {},
   "source": [
    "# Wahrscheinlichkeit von einer fallenden Rakete getroffen zu werden\n",
    "\n",
    "*Basierend auf einer wahren Geschichte*\n",
    "\n",
    "Wie Wahrscheinlich ist es in Berlin-Friedrichshain von einer fallenden Silvester-Rakete am Kopf getroffen zu werden?"
   ]
  },
  {
   "cell_type": "markdown",
   "metadata": {},
   "source": [
    "## Anzahl der in Deutschland verkauften Raketen\n",
    "\n",
    "Der Gesamtumsatz an Feuerwerk betrug im Jahr 2017/18 137.000.000 €. Der Anteil an Raketen daran betrug 20%. Ausgehend von einem Durchschnittspreis von 0.60€ pro Rakete ergibt dies 16.440.000 Raketen.\n",
    "\n",
    "Quelle: [VPI - Verband der Pyrotechnischen Industrie](http://www.feuerwerk-vpi.de/fileadmin/Dokumente-VPI/H%C3%A4ufig_gestellte_Fragen/FAQ_2017_final1.pdf)"
   ]
  },
  {
   "cell_type": "code",
   "execution_count": 1,
   "metadata": {},
   "outputs": [
    {
     "name": "stdout",
     "output_type": "stream",
     "text": [
      "Umsatz Raketen (€): 27400000.0\n",
      "Anzahl Raketen: 16440000.0\n"
     ]
    }
   ],
   "source": [
    "print(\"Umsatz Raketen (€):\", 137000000 * 0.2)\n",
    "print(\"Anzahl Raketen:\", 137000000 * 0.2 * 0.6)"
   ]
  },
  {
   "cell_type": "markdown",
   "metadata": {},
   "source": [
    "## Raketen in Berlin"
   ]
  },
  {
   "cell_type": "markdown",
   "metadata": {},
   "source": [
    "Geht man nun davon aus, dass alle diese Raketen zu Silvester gezündet werden und ihr Verkauf gleichmäßig auf die Bevölkerung verteilt ist ergibt dies 690.000 Raketen in Berlin."
   ]
  },
  {
   "cell_type": "code",
   "execution_count": 3,
   "metadata": {},
   "outputs": [
    {
     "name": "stdout",
     "output_type": "stream",
     "text": [
      "Anzahl Raketen in Berlin: 690054.4332889803\n"
     ]
    }
   ],
   "source": [
    "# Raketen / (Einwohner Deutschland / Einwohner Berlin)\n",
    "print(\"Anzahl Raketen in Berlin:\", 16440000 / (82670000 / 3470000))"
   ]
  },
  {
   "cell_type": "markdown",
   "metadata": {},
   "source": [
    "## Raketen in Berlin-Friedrichshain"
   ]
  },
  {
   "cell_type": "markdown",
   "metadata": {},
   "source": [
    "Schränkt man den Bereich weiter auf Berliner Stadtteile ein ergibt dies 25293 Raketen in Berlin-Friedrichshain."
   ]
  },
  {
   "cell_type": "code",
   "execution_count": 5,
   "metadata": {},
   "outputs": [
    {
     "name": "stdout",
     "output_type": "stream",
     "text": [
      "Anzahl Raketen in Friedrichshain: 25293.179629853636\n"
     ]
    }
   ],
   "source": [
    "# Raketen / (Einwohner Deutschland / Einwohner Frliedrichshain)\n",
    "print(\"Anzahl Raketen in Friedrichshain:\", 16440000 / (82670000 / 127189))"
   ]
  },
  {
   "cell_type": "markdown",
   "metadata": {},
   "source": [
    "## Wahrscheinlichkeit eines Kopftreffers"
   ]
  },
  {
   "cell_type": "markdown",
   "metadata": {},
   "source": [
    "Gehen wir nun weiter davon aus, dass die Stöcke der in Friedrichshain abgefeuerten Raketen gleich wahrscheinlich im Bereich Friedrichhains landen und den Bezirk nicht verlassen und keine Raketen aus benachbarten Bezirken dazu kommen.\n",
    "\n",
    "Ebenso nehmen wir an, dass der fallende Stock einer Rakete einen Bereich von etwa $0.25 m^2$ treffen kann (trudelnder Fall) und der Menschliche Kopf von oben betrachtet eine Angriffsfläche von 0.03 $m^2$ bietet.\n",
    "\n",
    "Außerdem nehmen wir an, dass man sich während der kompletten Zeit des Feuerwerks im Freien befindet."
   ]
  },
  {
   "cell_type": "markdown",
   "metadata": {},
   "source": [
    "Nehmen wir jetzt als grundlegende Formel $1-(1-a/A)^N$ wobei $a$ die Fläche des Kopfes ist, $A$ die Fläche Friedrichhains und $N$ die Anzahl der Raketen (Ereignisse).\n",
    "\n",
    "Quelle für die Formel ist die großartige Quelle [What is the mathematical probability of getting pooped on by a pigeon in NYC?](http://www.hopesandfears.com/hopes/now/math/215059-pigeon-poop-probability-nyc)"
   ]
  },
  {
   "cell_type": "code",
   "execution_count": 31,
   "metadata": {},
   "outputs": [
    {
     "name": "stdout",
     "output_type": "stream",
     "text": [
      "Wahrscheinlichkeit in Berlin-Friedrichshain zu Silvester von einer Rakete am Kopf getroffen zu werden:\n",
      "0.0006463447192270877\n"
     ]
    }
   ],
   "source": [
    "print(\"Wahrscheinlichkeit in Berlin-Friedrichshain zu Silvester von einer Rakete am Kopf getroffen zu werden:\")\n",
    "print( 1 - ((1.-0.25/9780000) ** 25293.18))"
   ]
  },
  {
   "cell_type": "markdown",
   "metadata": {},
   "source": [
    "Die Wahrscheinlichkeit beträgt also 0.000646 oder 0.0646 Prozent."
   ]
  }
 ],
 "metadata": {
  "kernelspec": {
   "display_name": "Python [conda env:s1_rice]",
   "language": "python",
   "name": "conda-env-s1_rice-py"
  },
  "language_info": {
   "codemirror_mode": {
    "name": "ipython",
    "version": 3
   },
   "file_extension": ".py",
   "mimetype": "text/x-python",
   "name": "python",
   "nbconvert_exporter": "python",
   "pygments_lexer": "ipython3",
   "version": "3.6.3"
  }
 },
 "nbformat": 4,
 "nbformat_minor": 2
}
