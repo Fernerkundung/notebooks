{
 "cells": [
  {
   "cell_type": "markdown",
   "metadata": {},
   "source": [
    "## Create BoundingBoxes for multiple Point-Locations"
   ]
  },
  {
   "cell_type": "markdown",
   "metadata": {},
   "source": [
    "Create a bounding box around a number of point locations. This can be useful if you want to sample the area surrounding known point locations - e.g. for collecting training data."
   ]
  },
  {
   "cell_type": "markdown",
   "metadata": {},
   "source": [
    "Calculate the bounding box. Code is taken from a [StackOverflow answer by Frederico A. Ramponi](http://stackoverflow.com/a/238558/4169585)."
   ]
  },
  {
   "cell_type": "code",
   "execution_count": 1,
   "metadata": {
    "collapsed": false
   },
   "outputs": [],
   "source": [
    "import math\n",
    "\n",
    "# degrees to radians\n",
    "def deg2rad(degrees):\n",
    "    return math.pi*degrees/180.0\n",
    "# radians to degrees\n",
    "def rad2deg(radians):\n",
    "    return 180.0*radians/math.pi\n",
    "\n",
    "# Semi-axes of WGS-84 geoidal reference\n",
    "WGS84_a = 6378137.0  # Major semiaxis [m]\n",
    "WGS84_b = 6356752.3  # Minor semiaxis [m]\n",
    "\n",
    "# Earth radius at a given latitude, according to the WGS-84 ellipsoid [m]\n",
    "def WGS84EarthRadius(lat):\n",
    "    # http://en.wikipedia.org/wiki/Earth_radius\n",
    "    An = WGS84_a*WGS84_a * math.cos(lat)\n",
    "    Bn = WGS84_b*WGS84_b * math.sin(lat)\n",
    "    Ad = WGS84_a * math.cos(lat)\n",
    "    Bd = WGS84_b * math.sin(lat)\n",
    "    return math.sqrt( (An*An + Bn*Bn)/(Ad*Ad + Bd*Bd) )\n",
    "\n",
    "# Bounding box surrounding the point at given coordinates,\n",
    "# assuming local approximation of Earth surface as a sphere\n",
    "# of radius given by WGS84\n",
    "def boundingBox(latitudeInDegrees, longitudeInDegrees, halfSideInKm):\n",
    "    lat = deg2rad(latitudeInDegrees)\n",
    "    lon = deg2rad(longitudeInDegrees)\n",
    "    halfSide = 1000*halfSideInKm\n",
    "\n",
    "    # Radius of Earth at given latitude\n",
    "    radius = WGS84EarthRadius(lat)\n",
    "    # Radius of the parallel at given latitude\n",
    "    pradius = radius*math.cos(lat)\n",
    "\n",
    "    latMin = lat - halfSide/radius\n",
    "    latMax = lat + halfSide/radius\n",
    "    lonMin = lon - halfSide/radius\n",
    "    lonMax = lon + halfSide/radius\n",
    "\n",
    "    x=(rad2deg(latMin), rad2deg(lonMin), rad2deg(latMax), rad2deg(lonMax))\n",
    "    return x"
   ]
  },
  {
   "cell_type": "markdown",
   "metadata": {},
   "source": [
    "Given a GeoJSON input file with multiple point locations calculate a output GeoJSON files with rectangular polygons whose center is at the point locations."
   ]
  },
  {
   "cell_type": "code",
   "execution_count": 30,
   "metadata": {
    "collapsed": true
   },
   "outputs": [],
   "source": [
    "input_file = \"PRD_20randompoints.geojson\"\n",
    "output_file = \"PRD_20randomBB.geojson\"\n",
    "halfside = 0.2  # half side of bounding Box in kilometres"
   ]
  },
  {
   "cell_type": "code",
   "execution_count": 31,
   "metadata": {
    "collapsed": false
   },
   "outputs": [],
   "source": [
    "import geojson\n",
    "\n",
    "with open(input_file, 'r') as infile:\n",
    "     points=geojson.load(infile)\n",
    "\n",
    "poly_list = []  # list for new polygon features\n",
    "\n",
    "# loop through point list and create bB Polygons\n",
    "for fid, feat in enumerate(points[\"features\"]):\n",
    "        point_cord = feat[\"geometry\"][\"coordinates\"]\n",
    "        bB = boundingBox(point_cord[0], point_cord[1], halfside)  # create boundingBox around point\n",
    "        # create bB Polygons and append Features to result list\n",
    "        poly_cord = geojson.Polygon([[[bB[0], bB[1]], [bB[0], bB[3]], [bB[2], bB[3]], [bB[2], bB[1]], [bB[0], bB[1]]]])\n",
    "        poly_list.append(geojson.Feature(geometry=poly_cord, id=fid, properties={}))\n",
    "        \n",
    "# write to disk, convert list of Features to FeatureCollection\n",
    "with open(output_file, \"w\") as outfile:\n",
    "    geojson.dump(geojson.FeatureCollection(poly_list), outfile)"
   ]
  }
 ],
 "metadata": {
  "kernelspec": {
   "display_name": "Python 3",
   "language": "python",
   "name": "python3"
  },
  "language_info": {
   "codemirror_mode": {
    "name": "ipython",
    "version": 3
   },
   "file_extension": ".py",
   "mimetype": "text/x-python",
   "name": "python",
   "nbconvert_exporter": "python",
   "pygments_lexer": "ipython3",
   "version": "3.4.5"
  }
 },
 "nbformat": 4,
 "nbformat_minor": 0
}
