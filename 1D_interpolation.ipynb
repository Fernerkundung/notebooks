{
 "cells": [
  {
   "cell_type": "markdown",
   "metadata": {},
   "source": [
    "#Fast, linear 1D interpolation"
   ]
  },
  {
   "cell_type": "markdown",
   "metadata": {},
   "source": [
    "- **Background**\n",
    "\n",
    "I am currently doing time-series analysis on MODIS derived vegetation index data. In order to get a reliable signal from the data outliers need to be removed and the resulting gaps interpolated/filled before further filtering/smoothing of the signal.\n",
    "\n",
    "- **Data**\n",
    "\n",
    "The time-series for one tile, covering 10° by 10°, spans roughly 14 years with 46 images per year. Each image weighs in at around 70-100 Mb. If you are processing, say, Africa you are looking at roughly 2.3 *Terrabyte* of input data."
   ]
  },
  {
   "cell_type": "markdown",
   "metadata": {},
   "source": [
    "##The Question: What is the fastest way to interpolate such a massive dataset?\n",
    "\n",
    "Each time-series needs to be interpolated in the time domain. Since every tile consists of 4800 by 4800 pixels this means the task is to interpolate 23040000 1D numpy arrays containing 644 evenly spaced data points.\n",
    "\n",
    "My first attempts at this focussed on [scipy.interp1d](http://docs.scipy.org/doc/scipy-0.15.1/reference/generated/scipy.interpolate.interp1d.html) and the [Pandas wrapper](http://pandas-docs.github.io/pandas-docs-travis/missing_data.html#interpolation) for it.\n",
    "\n",
    "Unfortunately they turned out to be too slow to be feasible, which lead to me [asking for help on StackOverflow](http://stackoverflow.com/questions/30910944/fast-1d-linear-np-nan-interpolation-over-large-3d-array)."
   ]
  },
  {
   "cell_type": "markdown",
   "metadata": {},
   "source": [
    "### Example dataset\n",
    "The example dataset reflects the input data rather well. Random Integers from -10000 to 10000 are like the NDVI dataset. There are areas where the complete z-axis is *NaN* (for example over water in the original data) and z-axis where only some values are *NaN*, just like after outlier removal along the time domain. There is high correlation along the time/z-axis. There might be some correlation in the x,y dimensions as well (Toplers Law) but this should not be employed for interpolation."
   ]
  },
  {
   "cell_type": "code",
   "execution_count": 1,
   "metadata": {
    "collapsed": true
   },
   "outputs": [],
   "source": [
    "# import necessary libraries\n",
    "import numpy as np\n",
    "import pandas as pd\n",
    "from numba import jit\n",
    "import matplotlib.pyplot as plt\n",
    "%matplotlib inline"
   ]
  },
  {
   "cell_type": "code",
   "execution_count": 2,
   "metadata": {
    "collapsed": false
   },
   "outputs": [],
   "source": [
    "# create example data, original is (644, 4800, 4800)\n",
    "test_arr = np.random.randint(low=-10000, high=10000, size=(92, 480, 480))\n",
    "test_arr[1:90:7, :, :] = -32768  # NaN fill value in original data\n",
    "test_arr[2,:,:] = -32768\n",
    "test_arr[:, 1:479:6, 1:479:8] = -32768"
   ]
  },
  {
   "cell_type": "code",
   "execution_count": 3,
   "metadata": {
    "collapsed": false
   },
   "outputs": [
    {
     "data": {
      "text/plain": [
       "[<matplotlib.lines.Line2D at 0xc567208>]"
      ]
     },
     "execution_count": 3,
     "metadata": {},
     "output_type": "execute_result"
    },
    {
     "data": {
      "image/png": "[encoded data removed]",
      "text/plain": [
       "<matplotlib.figure.Figure at 0xc3da828>"
      ]
     },
     "metadata": {},
     "output_type": "display_data"
    }
   ],
   "source": [
    "# show the example time-series at location (:,3,4)\n",
    "plt.plot(test_arr[:,3,4])"
   ]
  },
  {
   "cell_type": "markdown",
   "metadata": {},
   "source": [
    "###Scipy.interp1d interpolation\n",
    "\n",
    "Uitilizes *scipy.signal.interp1d* wrapper in *pandas*. This has the advantage of interpolating over a consecutive number of *NaN* up to a given limit with an interpolation method of choice.\n",
    "It is very convenient **but** it is rather slow."
   ]
  },
  {
   "cell_type": "code",
   "execution_count": 4,
   "metadata": {
    "collapsed": true
   },
   "outputs": [],
   "source": [
    "def interpolate_nan(arr, method=\"linear\", limit=3):\n",
    "    \"\"\"return array interpolated along time-axis to fill missing values\"\"\"\n",
    "    result = np.zeros_like(arr, dtype=np.int16)\n",
    "\n",
    "    for i in range(arr.shape[1]):\n",
    "        # slice along y axis, interpolate with pandas wrapper to interp1d\n",
    "        line_stack = pd.DataFrame(data=arr[:,i,:], dtype=np.float32)\n",
    "        line_stack.replace(to_replace=-37268, value=np.NaN, inplace=True)\n",
    "        line_stack.interpolate(method=method, axis=0, inplace=True, limit=limit)\n",
    "        line_stack.replace(to_replace=np.NaN, value=-37268, inplace=True)\n",
    "        result[:, i, :] = line_stack.values.astype(np.int16)\n",
    "    return result"
   ]
  },
  {
   "cell_type": "markdown",
   "metadata": {},
   "source": [
    "While this is very convenient it is *way* too slow for my purposes. Interpolation of my input data would require upwards of 3 weeks. I started looking for ways to speed this up. Since numpy has no fast 1D interpolation function and writing C code or learn Cython would also cost me quite some time I turned towards [numba](http://numba.pydata.org/)."
   ]
  },
  {
   "cell_type": "markdown",
   "metadata": {},
   "source": [
    "###1D interpolation with numba\n",
    "\n",
    "The idea is to loop through all 644x4800x4800 pixels and replace it with the mean of it's neighbours in the z-axis. This kind of loop would be horribly slow in pure Python. *Numba* compiles this function once and thus speeds up the loop drastically.\n",
    "\n",
    "This is done with the *@jit* decorator before the function. This function can also be nested into other functions as long as each one uses the decorator.\n",
    "\n",
    "Numba is only faster than Python if it is *not* run in object mode. The standard behaviour is to fall back into object mode if the function can't be compiled to low level code. The *nopython=True* argument supresses this behaviour and returns an exception if the code can't be compiled. Functions have to be written in basic syntax with standard Python operations and boundary conditions have to be explicitly implemented.\n",
    "\n",
    "This is less convenient and functional **but** pretty fast."
   ]
  },
  {
   "cell_type": "code",
   "execution_count": 5,
   "metadata": {
    "collapsed": false
   },
   "outputs": [],
   "source": [
    "from numba import jit\n",
    "\n",
    "@jit(nopython=True)\n",
    "def interpolate_numba(arr, no_data=-32768):\n",
    "    \"\"\"return array interpolated along time-axis to fill missing values\"\"\"\n",
    "    result = np.zeros_like(arr, dtype=np.int16)\n",
    "\n",
    "    for x in range(arr.shape[2]):\n",
    "        # slice along x axis\n",
    "        for y in range(arr.shape[1]):\n",
    "            # slice along y axis\n",
    "            for z in range(arr.shape[0]):\n",
    "                value = arr[z,y,x]\n",
    "                if z == 0:  # don't interpolate first value\n",
    "                    new_value = value\n",
    "                elif z == len(arr[:,0,0])-1:  # don't interpolate last value\n",
    "                    new_value = value\n",
    "                    \n",
    "                elif value == no_data:  # interpolate\n",
    "                    \n",
    "                    left = arr[z-1,y,x]\n",
    "                    right = arr[z+1,y,x]\n",
    "                    # look for valid neighbours\n",
    "                    if left != no_data and right != no_data:  # left and right are valid\n",
    "                        new_value = (left + right) / 2\n",
    "                    \n",
    "                    elif left == no_data and z == 1:  # boundary condition left\n",
    "                        new_value = value\n",
    "                    elif right == no_data and z == len(arr[:,0,0])-2:  # boundary condition right\n",
    "                        new_value = value\n",
    "                    \n",
    "                    elif left == no_data and right != no_data:  # take second neighbour to the left\n",
    "                        more_left = arr[z-2,y,x]\n",
    "                        if more_left == no_data:\n",
    "                            new_value = value\n",
    "                        else:\n",
    "                            new_value = (more_left + right) / 2\n",
    "                    \n",
    "                    elif left != no_data and right == no_data:  # take second neighbour to the right\n",
    "                        more_right = arr[z+2,y,x]\n",
    "                        if more_right == no_data:\n",
    "                            new_value = value\n",
    "                        else:\n",
    "                            new_value = (more_right + left) / 2\n",
    "                    \n",
    "                    elif left == no_data and right == no_data:  # take second neighbour on both sides\n",
    "                        more_left = arr[z-2,y,x]\n",
    "                        more_right = arr[z+2,y,x]\n",
    "                        if more_left != no_data and more_right != no_data:\n",
    "                            new_value = (more_left + more_right) / 2\n",
    "                        else:\n",
    "                            new_value = value\n",
    "                    else:\n",
    "                        new_value = value\n",
    "                else:\n",
    "                    new_value = value\n",
    "                result[z,y,x] = int(new_value)\n",
    "    return result"
   ]
  },
  {
   "cell_type": "markdown",
   "metadata": {},
   "source": [
    "###Comparing performance\n",
    "\n",
    "Testing the performance of both functions on the example dataset shows that the numba function is more than **20 times faster**. While it is less convenient than SciPy's function it is easy to write a function and use numbas LLVM magic to reach speeds close to native C Code without the hassle of having to actually learn C."
   ]
  },
  {
   "cell_type": "code",
   "execution_count": 6,
   "metadata": {
    "collapsed": false
   },
   "outputs": [
    {
     "name": "stdout",
     "output_type": "stream",
     "text": [
      "1 loops, best of 3: 11 s per loop\n"
     ]
    }
   ],
   "source": [
    "%timeit interpolate_nan(test_arr)"
   ]
  },
  {
   "cell_type": "code",
   "execution_count": 7,
   "metadata": {
    "collapsed": false
   },
   "outputs": [
    {
     "name": "stdout",
     "output_type": "stream",
     "text": [
      "1 loops, best of 3: 558 ms per loop\n"
     ]
    }
   ],
   "source": [
    "%timeit interpolate_numba(test_arr)"
   ]
  }
 ],
 "metadata": {
  "kernelspec": {
   "display_name": "Python 2",
   "language": "python",
   "name": "python2"
  },
  "language_info": {
   "codemirror_mode": {
    "name": "ipython",
    "version": 2
   },
   "file_extension": ".py",
   "mimetype": "text/x-python",
   "name": "python",
   "nbconvert_exporter": "python",
   "pygments_lexer": "ipython2",
   "version": "2.7.10"
  }
 },
 "nbformat": 4,
 "nbformat_minor": 0
}
